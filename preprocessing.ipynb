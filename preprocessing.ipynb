{
 "cells": [
  {
   "cell_type": "markdown",
   "metadata": {},
   "source": [
    "# The documents"
   ]
  },
  {
   "cell_type": "code",
   "execution_count": null,
   "metadata": {},
   "outputs": [],
   "source": [
    "laws_of_tertamonia = {\n",
    "    1: \"All citizens have the right to freedom of speech, provided it does not incite violence or spread falsehoods.\",    2: \"Discrimination based on race, religion, gender, or ethnicity is strictly prohibited in all forms.\",\n",
    "    3: \"Every child is entitled to free primary education and access to secondary education.\",    4: \"Health services must be accessible to all citizens regardless of their financial status.\",\n",
    "    5: \"Individuals are presumed innocent until proven guilty in a court of law.\",    6: \"The privacy of individuals is inviolable; unlawful surveillance or intrusion into personal data is prohibited.\",\n",
    "    7: \"Citizens have the right to peaceful assembly and protest without fear of retribution.\",    8: \"Fair wages must be provided for all forms of labor, with strict enforcement of a minimum wage.\",\n",
    "    9: \"Employment of children under the age of 14 in hazardous jobs is prohibited.\",    10: \"Torture and cruel or inhumane treatment of any individual are strictly forbidden.\",\n",
    "    11: \"Marriages must be based on mutual consent of both parties, without coercion.\",    12: \"Freedom of religion or belief is guaranteed, including the right to practice or not practice any faith.\",\n",
    "    13: \"Environmental protection is mandatory; deforestation and pollution are punishable by law.\",    14: \"All citizens have the right to safe and clean drinking water.\",\n",
    "    15: \"Public officials must disclose assets annually to ensure accountability.\",    16: \"Bribery and corruption in any form are punishable by imprisonment and fines.\",\n",
    "    17: \"Weapons possession is regulated, requiring thorough background checks and a valid license.\",    18: \"All vehicles must adhere to road safety standards, including emissions controls.\",\n",
    "    19: \"Tax evasion is a criminal offense with penalties proportional to the amount evaded.\",    20: \"Unlawful seizure of property is prohibited; citizens have the right to ownership of private property.\",\n",
    "    21: \"Animal cruelty is strictly forbidden, with special protections for endangered species.\",    22: \"Citizens must participate in jury duty when called upon, except in cases of valid exemptions.\",\n",
    "    23: \"All individuals have the right to vote in free and fair elections once they reach the age of 18.\",\n",
    "    24: \"Slavery or servitude in any form is prohibited.\",    25: \"Cybercrimes, including hacking and identity theft, carry severe penalties.\",\n",
    "    26: \"All businesses must ensure transparency in operations and adhere to consumer protection laws.\",\n",
    "    27: \"Human trafficking is a crime with maximum penalties of life imprisonment.\",    28: \"Involuntary organ or tissue donation is illegal under all circumstances.\",\n",
    "    29: \"Citizens have the right to access public records and information for transparency in governance.\",    30: \"Any form of sexual harassment in workplaces, public spaces, or online is punishable by law.\",\n",
    "    31: \"The legal drinking age is set at 21 years, with strict enforcement in public venues.\",    32: \"All buildings must comply with safety and accessibility standards, especially for individuals with disabilities.\",\n",
    "    33: \"Defamation and spreading false information that harms reputations are punishable offenses.\",    34: \"Landlords are prohibited from evicting tenants without due notice and legal cause.\",\n",
    "    35: \"Intellectual property rights are protected to encourage creativity and innovation.\",    36: \"Human rights education must be included in school curriculums.\",\n",
    "    37: \"Emergency response services must be free of charge and available to all.\",    38: \"Excessive noise pollution in residential areas is prohibited.\",\n",
    "    39: \"Unlawful detention without trial is strictly prohibited.\",    40: \"Non-biodegradable plastic products are banned to promote sustainability.\",\n",
    "    41: \"All employers must provide paid parental leave for both parents after childbirth or adoption.\",    42: \"Citizens have the right to cross-examine witnesses in legal trials.\",\n",
    "    43: \"Accurate labeling of all consumer goods is mandatory to ensure informed choices.\",    44: \"Freedom of the press is guaranteed, with protections for journalists against censorship.\",\n",
    "    45: \"Drug trafficking and possession of illegal substances carry severe penalties.\",    46: \"Citizens have the right to access free public libraries in every region.\",\n",
    "    47: \"Exploitation of workers, including unpaid overtime, is illegal.\",    48: \"All refugees and asylum seekers must be treated with dignity and provided fair hearings.\",\n",
    "    49: \"Disposal of toxic waste without proper treatment is a criminal offense.\",    50: \"Elected representatives must hold public consultations before passing major laws.\"\n",
    "}\n"
   ]
  },
  {
   "cell_type": "markdown",
   "metadata": {},
   "source": [
    "# Setting up the API key for gemini"
   ]
  },
  {
   "cell_type": "code",
   "execution_count": null,
   "metadata": {},
   "outputs": [],
   "source": [
    "import google.generativeai as genai\n",
    "genai.configure(api_key='YOUR_API_KEY')"
   ]
  },
  {
   "cell_type": "markdown",
   "metadata": {},
   "source": [
    "# Embedding the documents"
   ]
  },
  {
   "cell_type": "code",
   "execution_count": null,
   "metadata": {},
   "outputs": [],
   "source": [
    "import faiss\n",
    "import numpy as np\n",
    "def get_embedding(text):\n",
    "    embedding_result = genai.embed_content(\n",
    "        model='models/embedding-001',\n",
    "        content=text\n",
    "    )\n",
    "    if 'embedding' in embedding_result:\n",
    "        embedding_vector = np.array(embedding_result['embedding'], dtype=np.float32)\n",
    "        return embedding_vector\n",
    "    else:\n",
    "        raise ValueError(f\"No 'embedding' field found for document: {text}\")\n",
    "\n",
    "embeddings = []\n",
    "for key,value in laws_of_tertamonia.items():\n",
    "    # print (key,value)\n",
    "    holder = get_embedding(value)\n",
    "    embeddings.append(holder)\n",
    "\n"
   ]
  },
  {
   "cell_type": "markdown",
   "metadata": {},
   "source": [
    "# Consultation"
   ]
  },
  {
   "cell_type": "code",
   "execution_count": 21,
   "metadata": {},
   "outputs": [
    {
     "name": "stdout",
     "output_type": "stream",
     "text": [
      "Number of embedded documents: 50\n",
      "Embedding dimension: 768\n"
     ]
    }
   ],
   "source": [
    "print(f\"Number of embedded documents: {len(embeddings)}\")\n",
    "print(f\"Embedding dimension: {len(embeddings[0])}\")"
   ]
  },
  {
   "cell_type": "markdown",
   "metadata": {},
   "source": [
    "# Saving the embeddings"
   ]
  },
  {
   "cell_type": "code",
   "execution_count": 22,
   "metadata": {},
   "outputs": [],
   "source": [
    "import os\n",
    "import json\n",
    "\n",
    "# Convert embeddings to numpy array\n",
    "embedded_docs_np = np.array(embeddings, dtype=np.float32)\n",
    "\n",
    "# Normalize vectors for cosine similarity\n",
    "faiss.normalize_L2(embedded_docs_np)\n",
    "\n",
    "# Create FAISS index\n",
    "embedding_dim = embedded_docs_np.shape[1]\n",
    "index = faiss.IndexFlatIP(embedding_dim)\n",
    "index.add(embedded_docs_np)\n",
    "\n",
    "# Create save directory\n",
    "save_folder = \"rag_system\"\n",
    "os.makedirs(save_folder, exist_ok=True)\n",
    "\n",
    "# Save FAISS index\n",
    "index_path = os.path.join(save_folder, \"index.faiss\")\n",
    "faiss.write_index(index, index_path)"
   ]
  },
  {
   "cell_type": "markdown",
   "metadata": {},
   "source": [
    "# Saving the documents"
   ]
  },
  {
   "cell_type": "code",
   "execution_count": null,
   "metadata": {},
   "outputs": [],
   "source": [
    "# Save documents mapping\n",
    "docs_mapping = {\n",
    "    str(key): {\n",
    "        \"law\": value,\n",
    "    }\n",
    "    for key,value in laws_of_tertamonia.items()\n",
    "}\n",
    "\n",
    "with open(os.path.join(save_folder, \"documents.json\"), \"w\") as f:\n",
    "    json.dump(docs_mapping, f)"
   ]
  },
  {
   "cell_type": "code",
   "execution_count": null,
   "metadata": {},
   "outputs": [],
   "source": []
  }
 ],
 "metadata": {
  "kernelspec": {
   "display_name": "Python 3",
   "language": "python",
   "name": "python3"
  },
  "language_info": {
   "codemirror_mode": {
    "name": "ipython",
    "version": 3
   },
   "file_extension": ".py",
   "mimetype": "text/x-python",
   "name": "python",
   "nbconvert_exporter": "python",
   "pygments_lexer": "ipython3",
   "version": "3.10.12"
  }
 },
 "nbformat": 4,
 "nbformat_minor": 2
}
