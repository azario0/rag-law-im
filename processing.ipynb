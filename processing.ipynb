{
 "cells": [
  {
   "cell_type": "markdown",
   "metadata": {},
   "source": [
    "# Setting up the API key"
   ]
  },
  {
   "cell_type": "code",
   "execution_count": null,
   "metadata": {},
   "outputs": [],
   "source": [
    "import google.generativeai as genai\n",
    "genai.configure(api_key='YOUR_API_KEY')"
   ]
  },
  {
   "cell_type": "markdown",
   "metadata": {},
   "source": [
    "# Retrieving the vectorial database <br>and the documents"
   ]
  },
  {
   "cell_type": "code",
   "execution_count": null,
   "metadata": {},
   "outputs": [
    {
     "name": "stdout",
     "output_type": "stream",
     "text": [
      "Retrieved Law:\n",
      "['All citizens have the right to freedom of speech, provided it does not incite violence or spread falsehoods.']\n"
     ]
    }
   ],
   "source": [
    "import faiss\n",
    "import os \n",
    "import json\n",
    "import numpy as np\n",
    "def embed_query(text):\n",
    "    embedding_result = genai.embed_content(\n",
    "        model='models/embedding-001',\n",
    "        content=text,\n",
    "        task_type='retrieval_query'\n",
    "    )\n",
    "    return np.array(embedding_result['embedding'], dtype=np.float32).reshape(1, -1)\n",
    "\n",
    "def retriever(query, index, law_names, k=1):\n",
    "    query_embedding = embed_query(query)\n",
    "    faiss.normalize_L2(query_embedding)\n",
    "    distances, indices = index.search(query_embedding, k)\n",
    "    \n",
    "    # Retrieve the top k law texts\n",
    "    retrieved_laws = [law_names[indices[0][i]] for i in range(k)]\n",
    "    \n",
    "    return retrieved_laws\n",
    "\n",
    "save_folder = \"rag_system\"\n",
    "# Load index and mappings for retrieval\n",
    "index = faiss.read_index(os.path.join(save_folder, \"index.faiss\"))\n",
    "with open(os.path.join(save_folder, \"documents.json\"), \"r\") as f:\n",
    "    docs_mapping = json.load(f)\n",
    "\n",
    "# Extract law texts in the order of their keys\n",
    "law_names = [law['law'] for law in docs_mapping.values()]\n",
    "# Example query\n",
    "query = \"Freedom of speech rights for citizens\"\n",
    "# Retrieve the most relevant law\n",
    "retrieved_law = retriever(query, index, law_names)\n",
    "print(\"Retrieved Law:\")\n",
    "print(retrieved_law)\n"
   ]
  },
  {
   "cell_type": "markdown",
   "metadata": {},
   "source": [
    "# Without history"
   ]
  },
  {
   "cell_type": "code",
   "execution_count": 33,
   "metadata": {},
   "outputs": [
    {
     "name": "stdout",
     "output_type": "stream",
     "text": [
      "Citizens have the right to freedom of speech, but this right is limited; speech cannot incite violence or spread falsehoods.\n",
      "\n"
     ]
    }
   ],
   "source": [
    "def create_prompt(query, retrieved_laws):\n",
    "    prompt = (\n",
    "        \"Answer the following question based on the provided laws very briefly :\\n\\n\"\n",
    "        f\"**Question:** {query}\\n\\n\"\n",
    "        \"**Relevant Laws:**\\n\"\n",
    "    )\n",
    "    for i, law in enumerate(retrieved_laws, 1):\n",
    "        prompt += f\"{i}. {law}\\n\"\n",
    "    prompt += (\n",
    "        \"\\n\"\n",
    "        \"Please provide a brief answer using the relevant laws above. \"\n",
    "        \"If the laws do not directly address the question, explain based on the principles outlined in them.\"\n",
    "    )\n",
    "    return prompt\n",
    "\n",
    "# Assume 'query' is the user's input and 'retrieved_laws' are from the retriever\n",
    "def generate_response(query):\n",
    "    model = genai.GenerativeModel('models/gemini-1.5-flash')  \n",
    "\n",
    "    retrieved_laws = retriever(query, index, law_names, k=3)\n",
    "    # Create the prompt\n",
    "    prompt = create_prompt(query, retrieved_laws)\n",
    "    # Generate response using the Gemini model\n",
    "    response = model.generate_content(prompt)\n",
    "    return response.text,retrieved_laws\n",
    "\n",
    "\n",
    "query = \"What are the rights of citizens regarding freedom of speech?\"\n",
    "response,retrieved_laws = generate_response(query)\n",
    "# Print the model's response\n",
    "print(response)"
   ]
  },
  {
   "cell_type": "markdown",
   "metadata": {},
   "source": [
    "# With history"
   ]
  },
  {
   "cell_type": "code",
   "execution_count": null,
   "metadata": {},
   "outputs": [],
   "source": [
    "# Initialize conversation history\n",
    "conversation_history = []\n",
    "def add_message(role, content):\n",
    "    \"\"\"Add a message to the conversation history.\"\"\"\n",
    "    conversation_history.append({'role': role, 'content': content})\n",
    "def create_prompt(query, retrieved_laws, history):\n",
    "    \"\"\"Create a prompt including the query, retrieved laws, and conversation history.\"\"\"\n",
    "    prompt = (\n",
    "        \"Answer the following question based on the provided laws and the conversation history:\\n\\n\"\n",
    "    )\n",
    "    \n",
    "    # Include conversation history\n",
    "    for msg in history:\n",
    "        prompt += f\"**{msg['role'].capitalize()}:** {msg['content']}\\n\\n\"\n",
    "    \n",
    "    prompt += (\n",
    "        f\"**Question:** {query}\\n\\n\"\n",
    "        \"**Relevant Laws:**\\n\"\n",
    "    )\n",
    "    for i, law in enumerate(retrieved_laws, 1):\n",
    "        prompt += f\"{i}. {law}\\n\"\n",
    "    prompt += (\n",
    "        \"\\n\"\n",
    "        \"Please provide a brief answer using the relevant laws and considering the previous conversation. \"\n",
    "        \"If the laws do not directly address the question, explain based on the principles outlined in them.\"\n",
    "    )\n",
    "    return prompt\n",
    "# Example usage:\n",
    "model = genai.GenerativeModel('models/gemini-1.5-flash') \n",
    "# User's query\n",
    "user_query = \"What are the rights of citizens regarding freedom of speech?\"\n",
    "# Retrieve relevant laws\n",
    "retrieved_laws = retriever(user_query, index, law_names, k=3)\n",
    "# Create prompt with conversation history\n",
    "prompt = create_prompt(user_query, retrieved_laws, conversation_history)\n",
    "# Generate response\n",
    "response = model.generate_content(prompt)\n",
    "# Add user and assistant messages to history\n",
    "add_message('user', user_query)\n",
    "add_message('assistant', response.text)\n",
    "# Next interaction\n",
    "next_user_query = \"How does this relate to peaceful assembly?\"\n",
    "# Create prompt with updated history\n",
    "prompt = create_prompt(next_user_query, retrieved_laws, conversation_history)\n",
    "\n",
    "# Generate response\n",
    "next_response = model.generate_content(prompt)\n",
    "\n",
    "# Add to history\n",
    "add_message('user', next_user_query)\n",
    "add_message('assistant', next_response.text)\n",
    "\n",
    "# Continue the conversation as needed"
   ]
  },
  {
   "cell_type": "code",
   "execution_count": 29,
   "metadata": {},
   "outputs": [
    {
     "data": {
      "text/plain": [
       "[{'role': 'user',\n",
       "  'content': 'What are the rights of citizens regarding freedom of speech?'},\n",
       " {'role': 'assistant',\n",
       "  'content': 'Citizens have the right to freedom of speech, but this right is limited.  Speech cannot incite violence or spread falsehoods.  The principles of freedom of the press (law 3) also suggest a broad interpretation of freedom of expression, encompassing various forms of communication.\\n'},\n",
       " {'role': 'user', 'content': 'How does this relate to peaceful assembly?'},\n",
       " {'role': 'assistant',\n",
       "  'content': 'Freedom of speech (Law 1) and the right to peaceful assembly (Law 2) are closely related.  Peaceful assembly often involves the expression of views, which is protected under freedom of speech.  The principles of free expression, extended by Law 3 to encompass the press, further support the right to gather peacefully to communicate ideas and opinions.  However, both rights are conditional; speech and assembly must remain peaceful and not incite violence.\\n'}]"
      ]
     },
     "execution_count": 29,
     "metadata": {},
     "output_type": "execute_result"
    }
   ],
   "source": [
    "conversation_history"
   ]
  },
  {
   "cell_type": "code",
   "execution_count": null,
   "metadata": {},
   "outputs": [],
   "source": []
  }
 ],
 "metadata": {
  "kernelspec": {
   "display_name": "Python 3",
   "language": "python",
   "name": "python3"
  },
  "language_info": {
   "codemirror_mode": {
    "name": "ipython",
    "version": 3
   },
   "file_extension": ".py",
   "mimetype": "text/x-python",
   "name": "python",
   "nbconvert_exporter": "python",
   "pygments_lexer": "ipython3",
   "version": "3.10.12"
  }
 },
 "nbformat": 4,
 "nbformat_minor": 2
}
